{
  "nbformat": 4,
  "nbformat_minor": 0,
  "metadata": {
    "colab": {
      "provenance": []
    },
    "kernelspec": {
      "name": "python3",
      "display_name": "Python 3"
    },
    "language_info": {
      "name": "python"
    }
  },
  "cells": [
    {
      "cell_type": "markdown",
      "source": [
        "Question 1 : What is a random variable in probability theory?\n",
        "\n",
        "Answer ->\n",
        "\n",
        "In probability theory, a random variable is a variable that represents the outcome of a\n",
        "random experiment in numerical terms. It assigns a real number to each possible outcome\n",
        "in a sample space.\n",
        "\n",
        "There are two types of random variable :\n",
        "- Discrete random variable\n",
        "- Continuous random variable"
      ],
      "metadata": {
        "id": "7rMUx_eKt3_T"
      }
    },
    {
      "cell_type": "markdown",
      "source": [
        "Question 2 : What are the types of random variables?\n",
        "\n",
        "Answer ->\n",
        "\n",
        "There are two types of random variable:\n",
        "1. Discrete random variable :\n",
        "- Takes on a countable number of distinct values.\n",
        "- Example: Rolling a die\n",
        "2. Continuous random variable :\n",
        "- Takes on an uncountable number of possible values (typically real\n",
        "numbers over an interval).\n",
        "- Example: Measuring the time (in seconds) for a chemical reaction to\n",
        "complete.\n"
      ],
      "metadata": {
        "id": "HsQdEVuBuLBn"
      }
    },
    {
      "cell_type": "markdown",
      "source": [
        "Question 3 : Explain the difference between discrete and continuous distributions.\n",
        "\n",
        "Answer :\n",
        "\n",
        "Discrete distribution :\n",
        "- Discrete distribution value taken countable (e.g. 1,2,3,....)\n",
        "- Probability of interval is sum over values\n",
        "- Key function of Discrete distribution is Probability Mass Function(PMF)\n",
        "\n",
        "Continuous distribution :\n",
        "- Continuous distribution value taken uncountable (e.g. any real number)\n",
        "- Probability of interval area under curve\n",
        "- Key function of Continuous distribution is Probability of density function(PDF)"
      ],
      "metadata": {
        "id": "96NgzjPRIf-4"
      }
    },
    {
      "cell_type": "markdown",
      "source": [
        "Question 4 : What is a binomial distribution, and how is it used in probability?\n",
        "\n",
        "Answer :\n",
        "\n",
        "The binomial distribution is a discrete probability distribution that models the number of\n",
        "successes in a fixed number of independent and identical trials, where each trial has only\n",
        "two outcomes: success or failure.\n",
        "\n",
        "A random variable X follows a binomial distribution if:\n",
        "\n",
        "● There are n independent trials.\n",
        "\n",
        "● Each trial has two outcomes: success (with probability ppp) and failure (with\n",
        "probability 1−p1 - p1−p).\n",
        "\n",
        "● The probability of success ppp is constant across trials.\n",
        "\n",
        "● You are counting the number of successes out of nnn trials.\n"
      ],
      "metadata": {
        "id": "Jc_p0LDKIxdX"
      }
    },
    {
      "cell_type": "markdown",
      "source": [
        "Question 5 : What is the standard normal distribution, and why is it important?\n",
        "\n",
        "Answer : The standard normal distribution is a special case of the normal distribution that is:\n",
        "\n",
        "    ● Centered at zero (mean μ=0\\mu = 0μ=0)\n",
        "\n",
        "    ● Has a standard deviation of 1 ( σ=1\\sigma = 1σ=1 )\n",
        "\n",
        "It is important because :\n",
        "\n",
        "- Simplifies calculation\n",
        "- Z-scores\n",
        "- Used in statistical inference\n"
      ],
      "metadata": {
        "id": "9_8T_5f8JF0M"
      }
    },
    {
      "cell_type": "markdown",
      "source": [
        "Question 6 : What is the Central Limit Theorem (CLT), and why is it critical in statistics?\n",
        "\n",
        "Answer :\n",
        "\n",
        "CLT states that , when independent random variables are added, their properly normalized\n",
        "sum tends toward a normal distribution - even if the original variables themselves are not\n",
        "normally distributed.\n",
        "\n",
        "It is critical in statistics because :\n",
        "- Allows inference without knowing the population distribution\n",
        "- Foundation for confidence intervals and hypothesis testing\n",
        "- Works with real world data"
      ],
      "metadata": {
        "id": "PxM73kiGJVbj"
      }
    },
    {
      "cell_type": "markdown",
      "source": [
        "Question 7 : What is the significance of confidence intervals in statistical analysis?\n",
        "\n",
        "Answer :\n",
        "\n",
        "A confidence interval is a range of values, calculated from sample data, that is likely to\n",
        "contain the true value of a population parameter with a certain level of confidence.\n",
        "\n",
        "Confidence Intervals Are Important because:\n",
        "- Gives a Range Instead of a Single Value\n",
        "- Captures Sampling Uncertainty\n",
        "- Used in Hypothesis Testing\n",
        "- Applicable Across Fields\n"
      ],
      "metadata": {
        "id": "uxmd1EQeJkfQ"
      }
    },
    {
      "cell_type": "markdown",
      "source": [
        "Question 8 :  What is the concept of expected value in a probability distribution?\n",
        "\n",
        "Answer :\n",
        "\n",
        " The expected value (or expectation) is a key concept in probability theory that represents\n",
        "the long-run average or mean outcome of a random variable over many repetitions of the\n",
        "same experiment.\n",
        "\n",
        "The expected value of a random variable X, denoted by E(X) or μ, gives a measure of the\n",
        "center or average of the distribution.\n",
        "\n",
        "It is important because :\n",
        "- Foundation of decision making\n",
        "- Summarizes a distribution\n",
        "- Used to compute other statistics\n",
        "- Predicts long-term behavior\n"
      ],
      "metadata": {
        "id": "Nc2ubOOkJxTd"
      }
    },
    {
      "cell_type": "markdown",
      "source": [
        "Question 9: Write a Python program to generate 1000 random numbers from a normal\n",
        "distribution with mean = 50 and standard deviation = 5. Compute its mean and standard\n",
        "deviation using NumPy, and draw a histogram to visualize the distribution.\n",
        "(Include your Python code and output in the code box below.)\n"
      ],
      "metadata": {
        "id": "yPH7hT-HKIHS"
      }
    },
    {
      "cell_type": "code",
      "source": [
        "# Answer :\n",
        "\n",
        "import numpy as np\n",
        "import matplotlib.pyplot as plt\n",
        "\n",
        "# Set seed for reproducibility (optional)\n",
        "np.random.seed(42)\n",
        "\n",
        "# Parameters for the normal distribution\n",
        "mu = 50 # Mean\n",
        "sigma = 5 # Standard deviation\n",
        "n = 1000 # Number of samples\n",
        "\n",
        "# Generate random numbers from the normal distribution\n",
        "data = np.random.normal(mu, sigma, n)\n",
        "\n",
        "# Compute mean and standard deviation\n",
        "sample_mean = np.mean(data)\n",
        "sample_std = np.std(data)\n",
        "\n",
        "# Print results\n",
        "print(f\"Sample Mean: {sample_mean:.2f}\")\n",
        "print(f\"Sample Standard Deviation: {sample_std:.2f}\")\n",
        "\n",
        "# Plot histogram\n",
        "plt.figure(figsize=(8, 5))\n",
        "plt.hist(data, bins=30, edgecolor='black', alpha=0.7, density=True)\n",
        "plt.title(\"Histogram of Normally Distributed Data\")\n",
        "plt.xlabel(\"Value\")\n",
        "plt.ylabel(\"Density\")\n",
        "plt.axvline(sample_mean, color='red', linestyle='dashed', linewidth=2, label=f\"Mean ={sample_mean:.2f}\")\n",
        "plt.legend()\n",
        "plt.grid(True)\n",
        "plt.show()\n"
      ],
      "metadata": {
        "colab": {
          "base_uri": "https://localhost:8080/",
          "height": 522
        },
        "id": "NY6MRtqGKPGy",
        "outputId": "19a550c3-c273-4386-8d77-0a40911857d9"
      },
      "execution_count": 2,
      "outputs": [
        {
          "output_type": "stream",
          "name": "stdout",
          "text": [
            "Sample Mean: 50.10\n",
            "Sample Standard Deviation: 4.89\n"
          ]
        },
        {
          "output_type": "display_data",
          "data": {
            "text/plain": [
              "<Figure size 800x500 with 1 Axes>"
            ],
            "image/png": "[encoded data removed]"
          },
          "metadata": {}
        }
      ]
    },
    {
      "cell_type": "markdown",
      "source": [
        "Question 10: You are working as a data analyst for a retail company. The company has\n",
        "collected daily sales data for 2 years and wants you to identify the overall sales trend.\n",
        "\n",
        "daily_sales = [220, 245, 210, 265, 230, 250, 260, 275, 240, 255, 235, 260, 245, 250, 225,\n",
        "270, 265, 255, 250, 260]\n",
        "\n",
        "● Explain how you would apply the Central Limit Theorem to estimate the average sales with\n",
        "a 95% confidence interval.\n",
        "\n",
        "● Write the Python code to compute the mean sales and its confidence interval.\n",
        "\n",
        "(Include your Python code and output in the code box below.)\n",
        "\n",
        "Answer ->\n",
        "\n",
        "You are given a list of daily sales values (presumably a sample).\n",
        "\n",
        "To estimate the true average daily sales for the population (e.g., all 2 years of sales), you\n",
        "can compute:\n",
        "\n",
        "    ● The sample mean\n",
        "\n",
        "    ● The standard error of the mean (SEM)\n",
        "\n",
        "    ● Then construct a 95% confidence interval around the mean\n",
        "\n",
        "Formula for 95% confidence interval :\n",
        "\n",
        "    CI = xˉ±z⋅s/√ n\n",
        "\n",
        "**Where:**\n",
        "\n",
        "●  xˉ = sample mean\n",
        "\n",
        "● s = sample standard deviation\n",
        "\n",
        "● n = sample size\n",
        "\n",
        "● z = 1.96 for 95% confidence (assuming normal distribution)"
      ],
      "metadata": {
        "id": "2fSZOe81Kitc"
      }
    },
    {
      "cell_type": "code",
      "source": [
        "# python code\n",
        "\n",
        "import numpy as np\n",
        "from scipy import stats\n",
        "\n",
        "# Sample data\n",
        "daily_sales = [220, 245, 210, 265, 230, 250, 260, 275, 240, 255,235, 260, 245, 250, 225, 270, 265, 255, 250, 260]\n",
        "\n",
        "# Convert to NumPy array\n",
        "sales = np.array(daily_sales)\n",
        "\n",
        "# Sample size\n",
        "n = len(sales)\n",
        "\n",
        "# Compute sample mean and standard deviation\n",
        "mean_sales = np.mean(sales)\n",
        "std_sales = np.std(sales, ddof=1) # Use ddof=1 for sample std dev\n",
        "\n",
        "# Standard error of the mean\n",
        "sem = std_sales / np.sqrt(n)\n",
        "\n",
        "# Z-score for 95% confidence interval\n",
        "z = 1.96\n",
        "\n",
        "# Confidence interval\n",
        "lower_bound = mean_sales - z * sem\n",
        "upper_bound = mean_sales + z * sem\n",
        "\n",
        "# Print results\n",
        "print(f\"Sample Mean Sales: {mean_sales:.2f}\")\n",
        "print(f\"95% Confidence Interval: ({lower_bound:.2f}, {upper_bound:.2f})\")"
      ],
      "metadata": {
        "colab": {
          "base_uri": "https://localhost:8080/"
        },
        "id": "IECcJe61LW65",
        "outputId": "57c7649f-46e6-43b9-aeba-23d0084c35c2"
      },
      "execution_count": 3,
      "outputs": [
        {
          "output_type": "stream",
          "name": "stdout",
          "text": [
            "Sample Mean Sales: 248.25\n",
            "95% Confidence Interval: (240.68, 255.82)\n"
          ]
        }
      ]
    }
  ]
}